{
 "cells": [
  {
   "attachments": {},
   "cell_type": "markdown",
   "metadata": {},
   "source": [
    "## Data Analytics - Lab 2 - Intro to stan\n",
    "<br>\n",
    "Jan Pomykacz<br>\n",
    "Nr. albumu: 401623<br>\n",
    "Grupa: czwartek, 9:30"
   ]
  },
  {
   "cell_type": "code",
   "execution_count": 1,
   "metadata": {},
   "outputs": [
    {
     "name": "stderr",
     "output_type": "stream",
     "text": [
      "/usr/local/lib/python3.9/site-packages/tqdm/auto.py:22: TqdmWarning: IProgress not found. Please update jupyter and ipywidgets. See https://ipywidgets.readthedocs.io/en/stable/user_install.html\n",
      "  from .autonotebook import tqdm as notebook_tqdm\n"
     ]
    }
   ],
   "source": [
    "from cmdstanpy import CmdStanModel\n",
    "import pandas as pd\n",
    "import arviz as az \n",
    "import numpy as np\n",
    "import matplotlib.pyplot as plt\n",
    "import scipy.stats as stats\n",
    "\n",
    "F = len(\"Jan\")\n",
    "L = len(\"Pomykacz\")"
   ]
  },
  {
   "attachments": {},
   "cell_type": "markdown",
   "metadata": {},
   "source": [
    "### Exercise 1 - generated quantities"
   ]
  },
  {
   "cell_type": "code",
   "execution_count": 2,
   "metadata": {},
   "outputs": [
    {
     "name": "stderr",
     "output_type": "stream",
     "text": [
      "INFO:cmdstanpy:found newer exe file, not recompiling\n",
      "INFO:cmdstanpy:CmdStan start processing\n",
      "chain 1 |\u001b[34m██████████\u001b[0m| 00:00 Sampling completed"
     ]
    },
    {
     "name": "stdout",
     "output_type": "stream",
     "text": [
      "                                                                                "
     ]
    },
    {
     "name": "stderr",
     "output_type": "stream",
     "text": [
      "\n",
      "INFO:cmdstanpy:CmdStan done processing.\n"
     ]
    },
    {
     "name": "stdout",
     "output_type": "stream",
     "text": [
      "\n"
     ]
    },
    {
     "data": {
      "text/plain": [
       "array([[<AxesSubplot:title={'center':'lambda'}>,\n",
       "        <AxesSubplot:title={'center':'y_sim[1]'}>],\n",
       "       [<AxesSubplot:title={'center':'y_sim[2]'}>,\n",
       "        <AxesSubplot:title={'center':'y_sim[3]'}>]], dtype=object)"
      ]
     },
     "execution_count": 2,
     "metadata": {},
     "output_type": "execute_result"
    },
    {
     "data": {
      "image/png": "[encoded data removed]",
      "text/plain": [
       "<Figure size 720x720 with 4 Axes>"
      ]
     },
     "metadata": {
      "needs_background": "light"
     },
     "output_type": "display_data"
    }
   ],
   "source": [
    "gen_quant = CmdStanModel(stan_file='code_1.stan')\n",
    "\n",
    "samples = gen_quant.sample(data={'M':F}, \n",
    "                            fixed_param=True, \n",
    "                            iter_sampling=1000, \n",
    "                            iter_warmup=0, \n",
    "                            chains = 1)\n",
    "\n",
    "df = samples.draws_pd()\n",
    "\n",
    "df.hist(list(df.columns[2:]), figsize=(10,10))"
   ]
  },
  {
   "attachments": {},
   "cell_type": "markdown",
   "metadata": {},
   "source": [
    "### Excercise 2 - constraints on the data"
   ]
  },
  {
   "cell_type": "code",
   "execution_count": 16,
   "metadata": {},
   "outputs": [
    {
     "name": "stderr",
     "output_type": "stream",
     "text": [
      "INFO:cmdstanpy:found newer exe file, not recompiling\n",
      "INFO:cmdstanpy:CmdStan start processing\n",
      "chain 1 |\u001b[33m          \u001b[0m| 00:00 Status\n",
      "\u001b[A\n",
      "\n",
      "chain 1 |\u001b[34m██████████\u001b[0m| 00:00 Sampling completed\n",
      "chain 2 |\u001b[34m██████████\u001b[0m| 00:00 Sampling completed\n",
      "chain 3 |\u001b[34m██████████\u001b[0m| 00:00 Sampling completed\n",
      "chain 4 |\u001b[34m██████████\u001b[0m| 00:00 Sampling completed"
     ]
    },
    {
     "name": "stdout",
     "output_type": "stream",
     "text": [
      "                                                                                                                                                                                                                                                                                                                                "
     ]
    },
    {
     "name": "stderr",
     "output_type": "stream",
     "text": [
      "\n",
      "INFO:cmdstanpy:CmdStan done processing.\n",
      "INFO:cmdstanpy:found newer exe file, not recompiling\n",
      "INFO:cmdstanpy:CmdStan start processing\n"
     ]
    },
    {
     "name": "stdout",
     "output_type": "stream",
     "text": [
      "\n"
     ]
    },
    {
     "name": "stderr",
     "output_type": "stream",
     "text": [
      "chain 1 |\u001b[33m          \u001b[0m| 00:00 Status\n",
      "\u001b[A\n",
      "\n",
      "chain 1 |\u001b[34m██████████\u001b[0m| 00:00 Sampling completed\n",
      "chain 2 |\u001b[34m██████████\u001b[0m| 00:00 Sampling completed\n",
      "chain 3 |\u001b[34m██████████\u001b[0m| 00:00 Sampling completed\n",
      "chain 4 |\u001b[34m██████████\u001b[0m| 00:00 Sampling completed"
     ]
    },
    {
     "name": "stdout",
     "output_type": "stream",
     "text": [
      "                                                                                                                                                                                                                                                                                                                                "
     ]
    },
    {
     "name": "stderr",
     "output_type": "stream",
     "text": [
      "\n",
      "INFO:cmdstanpy:CmdStan done processing.\n"
     ]
    },
    {
     "name": "stdout",
     "output_type": "stream",
     "text": [
      "\n"
     ]
    }
   ],
   "source": [
    "# Ex. 2\n",
    "\n",
    "# with this code we can have any number of data points (must be >=0 and integer), outputs must be same length vector of 1s and 0s.\n",
    "# we cannot input other values into 'y' other than {0,1} because bernoullli distribution is a binary one\n",
    "bern1 = CmdStanModel(stan_file='code_2.stan')\n",
    "samp_bern1 = bern1.sample(data={'N':3, 'y':[0, 1, 1]})\n",
    "\n",
    "# with this code only difference seems to be that we cannot input N=0 with corresponding empty vector\n",
    "bern2 = CmdStanModel(stan_file='code_3.stan')\n",
    "samp_bern2 = bern2.sample(data={'N':3, 'y':[1,0,1]})"
   ]
  },
  {
   "attachments": {},
   "cell_type": "markdown",
   "metadata": {},
   "source": [
    "### Excercise 3 - constraints on the parameters"
   ]
  },
  {
   "cell_type": "code",
   "execution_count": 4,
   "metadata": {},
   "outputs": [
    {
     "name": "stderr",
     "output_type": "stream",
     "text": [
      "INFO:cmdstanpy:found newer exe file, not recompiling\n",
      "INFO:cmdstanpy:CmdStan start processing\n",
      "chain 1 |\u001b[33m          \u001b[0m| 00:00 Status\n",
      "\u001b[A\n",
      "\n",
      "\u001b[A\u001b[A\n",
      "\u001b[A\n",
      "\n",
      "chain 1 |\u001b[34m███       \u001b[0m| 00:00 Iteration: 1900 / 7000 [ 27%]  (Sampling)\n",
      "\u001b[A\n",
      "\n",
      "\u001b[A\u001b[A\n",
      "\n",
      "chain 1 |\u001b[34m███▉      \u001b[0m| 00:00 Iteration: 2500 / 7000 [ 35%]  (Sampling)\n",
      "\u001b[A\n",
      "\n",
      "chain 1 |\u001b[34m████▍     \u001b[0m| 00:01 Iteration: 2900 / 7000 [ 41%]  (Sampling)\n",
      "\u001b[A\n",
      "\n",
      "chain 1 |\u001b[34m█████     \u001b[0m| 00:01 Iteration: 3300 / 7000 [ 47%]  (Sampling)\n",
      "\u001b[A\n",
      "\n",
      "chain 1 |\u001b[34m█████▍    \u001b[0m| 00:01 Iteration: 3600 / 7000 [ 51%]  (Sampling)\n",
      "\u001b[A\n",
      "\n",
      "chain 1 |\u001b[34m█████▊    \u001b[0m| 00:01 Iteration: 3900 / 7000 [ 55%]  (Sampling)\n",
      "\u001b[A\n",
      "\n",
      "chain 1 |\u001b[34m██████    \u001b[0m| 00:01 Iteration: 4100 / 7000 [ 58%]  (Sampling)\n",
      "\u001b[A\n",
      "\n",
      "chain 1 |\u001b[34m██████▍   \u001b[0m| 00:02 Iteration: 4300 / 7000 [ 61%]  (Sampling)\n",
      "\u001b[A\n",
      "\n",
      "chain 1 |\u001b[34m██████▋   \u001b[0m| 00:02 Iteration: 4500 / 7000 [ 64%]  (Sampling)\n",
      "\u001b[A\n",
      "\n",
      "chain 1 |\u001b[34m██████▉   \u001b[0m| 00:02 Iteration: 4700 / 7000 [ 67%]  (Sampling)\n",
      "\u001b[A\n",
      "\n",
      "chain 1 |\u001b[34m███████▏  \u001b[0m| 00:02 Iteration: 4900 / 7000 [ 70%]  (Sampling)\n",
      "\u001b[A\n",
      "\n",
      "chain 1 |\u001b[34m███████▌  \u001b[0m| 00:02 Iteration: 5100 / 7000 [ 72%]  (Sampling)\n",
      "\u001b[A\n",
      "\n",
      "chain 1 |\u001b[34m███████▊  \u001b[0m| 00:02 Iteration: 5300 / 7000 [ 75%]  (Sampling)\n",
      "\u001b[A\n",
      "\n",
      "chain 1 |\u001b[34m████████  \u001b[0m| 00:02 Iteration: 5500 / 7000 [ 78%]  (Sampling)\n",
      "\u001b[A\n",
      "\n",
      "chain 1 |\u001b[34m████████▎ \u001b[0m| 00:02 Iteration: 5700 / 7000 [ 81%]  (Sampling)\n",
      "\u001b[A\n",
      "\n",
      "chain 1 |\u001b[34m████████▌ \u001b[0m| 00:02 Iteration: 5900 / 7000 [ 84%]  (Sampling)\n",
      "\u001b[A\n",
      "\n",
      "chain 1 |\u001b[34m████████▉ \u001b[0m| 00:03 Iteration: 6100 / 7000 [ 87%]  (Sampling)\n",
      "\u001b[A\n",
      "\n",
      "chain 1 |\u001b[34m█████████▏\u001b[0m| 00:03 Iteration: 6300 / 7000 [ 90%]  (Sampling)\n",
      "\u001b[A\n",
      "\n",
      "chain 1 |\u001b[34m█████████▍\u001b[0m| 00:03 Iteration: 6500 / 7000 [ 92%]  (Sampling)\n",
      "\u001b[A\n",
      "\n",
      "chain 1 |\u001b[34m█████████▋\u001b[0m| 00:03 Iteration: 6700 / 7000 [ 95%]  (Sampling)\n",
      "\u001b[A\n",
      "\n",
      "chain 1 |\u001b[34m██████████\u001b[0m| 00:03 Sampling completed                       \n",
      "chain 2 |\u001b[34m██████████\u001b[0m| 00:03 Sampling completed                       \n",
      "chain 3 |\u001b[34m██████████\u001b[0m| 00:03 Sampling completed                       \n",
      "chain 4 |\u001b[34m██████████\u001b[0m| 00:03 Sampling completed                       "
     ]
    },
    {
     "name": "stdout",
     "output_type": "stream",
     "text": [
      "                                                                                                                                                                                                                                                                                                                                "
     ]
    },
    {
     "name": "stderr",
     "output_type": "stream",
     "text": [
      "\n",
      "INFO:cmdstanpy:CmdStan done processing.\n"
     ]
    },
    {
     "name": "stdout",
     "output_type": "stream",
     "text": [
      "\n"
     ]
    },
    {
     "data": {
      "text/plain": [
       "\"Processing csv files: /home/DataAnalytics_lab/lab2/samples/code_4-20230318153131_1.csv, /home/DataAnalytics_lab/lab2/samples/code_4-20230318153131_2.csv, /home/DataAnalytics_lab/lab2/samples/code_4-20230318153131_3.csv, /home/DataAnalytics_lab/lab2/samples/code_4-20230318153131_4.csv\\n\\nChecking sampler transitions treedepth.\\nTreedepth satisfactory for all transitions.\\n\\nChecking sampler transitions for divergences.\\n9489 of 24000 (39.54%) transitions ended with a divergence.\\nThese divergent transitions indicate that HMC is not fully able to explore the posterior distribution.\\nTry increasing adapt delta closer to 1.\\nIf this doesn't remove all divergences, try to reparameterize the model.\\n\\nChecking E-BFMI - sampler transitions HMC potential energy.\\nE-BFMI satisfactory.\\n\\nEffective sample size satisfactory.\\n\\nSplit R-hat values satisfactory all parameters.\\n\\nProcessing complete.\\n\""
      ]
     },
     "execution_count": 4,
     "metadata": {},
     "output_type": "execute_result"
    }
   ],
   "source": [
    "# unconstrained parameters\n",
    "model_gm1 = CmdStanModel(stan_file='code_4.stan')\n",
    "out_gamma1 = model_gm1.sample(output_dir='samples',iter_sampling=6000,iter_warmup=1000, seed=4838282)\n",
    "out_gamma1.diagnose()\n"
   ]
  },
  {
   "cell_type": "code",
   "execution_count": 5,
   "metadata": {},
   "outputs": [
    {
     "data": {
      "image/png": "[encoded data removed]",
      "text/plain": [
       "<Figure size 432x288 with 1 Axes>"
      ]
     },
     "metadata": {
      "needs_background": "light"
     },
     "output_type": "display_data"
    }
   ],
   "source": [
    "N=500\n",
    "xs = np.linspace(0,8,N)\n",
    "pdfs = stats.gamma.pdf(xs, 1.25, scale = 1 / 1.25) \n",
    "\n",
    "plt.plot(xs, pdfs, linewidth=2)\n",
    "\n",
    "## add histogram of theta samples with 160 bins\n",
    "plt.hist(out_gamma1.stan_variable(\"theta\"), bins=160, density=True)\n",
    "\n",
    "plt.gca().set_xlabel(\"theta\")\n",
    "plt.gca().set_ylabel(\"Probability Density Function\")\n",
    "plt.show()"
   ]
  },
  {
   "cell_type": "code",
   "execution_count": 6,
   "metadata": {},
   "outputs": [
    {
     "name": "stderr",
     "output_type": "stream",
     "text": [
      "INFO:cmdstanpy:found newer exe file, not recompiling\n",
      "INFO:cmdstanpy:CmdStan start processing\n",
      "chain 1 |\u001b[33m          \u001b[0m| 00:00 Status\n",
      "\u001b[A\n",
      "\n",
      "\u001b[A\u001b[A\n",
      "\n",
      "\u001b[A\u001b[A\n",
      "chain 1 |\u001b[33m▏         \u001b[0m| 00:00 Status\n",
      "\n",
      "\u001b[A\u001b[A\n",
      "chain 1 |\u001b[34m█▊        \u001b[0m| 00:00 Iteration: 1001 / 7000 [ 14%]  (Sampling)\n",
      "\n",
      "\u001b[A\u001b[A\n",
      "chain 1 |\u001b[34m██▊       \u001b[0m| 00:00 Iteration: 1700 / 7000 [ 24%]  (Sampling)\n",
      "\n",
      "\u001b[A\u001b[A\n",
      "chain 1 |\u001b[34m███▍      \u001b[0m| 00:01 Iteration: 2200 / 7000 [ 31%]  (Sampling)\n",
      "\n",
      "\u001b[A\u001b[A\n",
      "chain 1 |\u001b[34m████      \u001b[0m| 00:01 Iteration: 2600 / 7000 [ 37%]  (Sampling)\n",
      "\n",
      "\u001b[A\u001b[A\n",
      "chain 1 |\u001b[34m████▍     \u001b[0m| 00:01 Iteration: 2900 / 7000 [ 41%]  (Sampling)\n",
      "\n",
      "\u001b[A\u001b[A\n",
      "chain 1 |\u001b[34m████▊     \u001b[0m| 00:01 Iteration: 3200 / 7000 [ 45%]  (Sampling)\n",
      "\n",
      "\u001b[A\u001b[A\n",
      "chain 1 |\u001b[34m█████▎    \u001b[0m| 00:01 Iteration: 3500 / 7000 [ 50%]  (Sampling)\n",
      "\n",
      "\u001b[A\u001b[A\n",
      "chain 1 |\u001b[34m█████▌    \u001b[0m| 00:02 Iteration: 3700 / 7000 [ 52%]  (Sampling)\n",
      "\n",
      "\u001b[A\u001b[A\n",
      "chain 1 |\u001b[34m█████▊    \u001b[0m| 00:02 Iteration: 3900 / 7000 [ 55%]  (Sampling)\n",
      "\n",
      "\u001b[A\u001b[A\n",
      "chain 1 |\u001b[34m██████    \u001b[0m| 00:02 Iteration: 4100 / 7000 [ 58%]  (Sampling)\n",
      "\n",
      "\u001b[A\u001b[A\n",
      "chain 1 |\u001b[34m██████▍   \u001b[0m| 00:02 Iteration: 4300 / 7000 [ 61%]  (Sampling)\n",
      "\n",
      "\u001b[A\u001b[A\n",
      "chain 1 |\u001b[34m██████▋   \u001b[0m| 00:02 Iteration: 4500 / 7000 [ 64%]  (Sampling)\n",
      "\n",
      "\u001b[A\u001b[A\n",
      "chain 1 |\u001b[34m██████▉   \u001b[0m| 00:02 Iteration: 4700 / 7000 [ 67%]  (Sampling)\n",
      "\n",
      "\u001b[A\u001b[A\n",
      "chain 1 |\u001b[34m███████▏  \u001b[0m| 00:02 Iteration: 4900 / 7000 [ 70%]  (Sampling)\n",
      "\n",
      "\u001b[A\u001b[A\n",
      "chain 1 |\u001b[34m███████▌  \u001b[0m| 00:03 Iteration: 5100 / 7000 [ 72%]  (Sampling)\n",
      "\n",
      "\u001b[A\u001b[A\n",
      "chain 1 |\u001b[34m███████▊  \u001b[0m| 00:03 Iteration: 5300 / 7000 [ 75%]  (Sampling)\n",
      "\n",
      "\u001b[A\u001b[A\n",
      "chain 1 |\u001b[34m████████  \u001b[0m| 00:03 Iteration: 5500 / 7000 [ 78%]  (Sampling)\n",
      "\n",
      "\u001b[A\u001b[A\n",
      "chain 1 |\u001b[34m████████▎ \u001b[0m| 00:03 Iteration: 5700 / 7000 [ 81%]  (Sampling)\n",
      "\n",
      "\u001b[A\u001b[A\n",
      "chain 1 |\u001b[34m████████▌ \u001b[0m| 00:03 Iteration: 5900 / 7000 [ 84%]  (Sampling)\n",
      "\u001b[A\n",
      "\n",
      "chain 1 |\u001b[34m████████▉ \u001b[0m| 00:03 Iteration: 6100 / 7000 [ 87%]  (Sampling)\n",
      "\n",
      "\u001b[A\u001b[A\n",
      "chain 1 |\u001b[34m█████████▏\u001b[0m| 00:04 Iteration: 6300 / 7000 [ 90%]  (Sampling)\n",
      "\n",
      "\u001b[A\u001b[A\n",
      "chain 1 |\u001b[34m█████████▍\u001b[0m| 00:04 Iteration: 6500 / 7000 [ 92%]  (Sampling)\n",
      "\n",
      "\u001b[A\u001b[A\n",
      "chain 1 |\u001b[34m█████████▋\u001b[0m| 00:04 Iteration: 6700 / 7000 [ 95%]  (Sampling)\n",
      "\n",
      "\u001b[A\u001b[A\n",
      "chain 1 |\u001b[34m██████████\u001b[0m| 00:04 Sampling completed                       \n",
      "chain 2 |\u001b[34m██████████\u001b[0m| 00:04 Sampling completed                       \n",
      "chain 3 |\u001b[34m██████████\u001b[0m| 00:04 Sampling completed                       \n",
      "chain 4 |\u001b[34m██████████\u001b[0m| 00:04 Sampling completed                       "
     ]
    },
    {
     "name": "stdout",
     "output_type": "stream",
     "text": [
      "                                                                                                                                                                                                                                                                                                                                "
     ]
    },
    {
     "name": "stderr",
     "output_type": "stream",
     "text": [
      "\n",
      "INFO:cmdstanpy:CmdStan done processing.\n"
     ]
    },
    {
     "name": "stdout",
     "output_type": "stream",
     "text": [
      "\n"
     ]
    },
    {
     "data": {
      "text/plain": [
       "\"Processing csv files: /home/DataAnalytics_lab/lab2/samples/code_5-20230318153136_1.csv, /home/DataAnalytics_lab/lab2/samples/code_5-20230318153136_2.csv, /home/DataAnalytics_lab/lab2/samples/code_5-20230318153136_3.csv, /home/DataAnalytics_lab/lab2/samples/code_5-20230318153136_4.csv\\n\\nChecking sampler transitions treedepth.\\nTreedepth satisfactory for all transitions.\\n\\nChecking sampler transitions for divergences.\\n2 of 24000 (0.01%) transitions ended with a divergence.\\nThese divergent transitions indicate that HMC is not fully able to explore the posterior distribution.\\nTry increasing adapt delta closer to 1.\\nIf this doesn't remove all divergences, try to reparameterize the model.\\n\\nChecking E-BFMI - sampler transitions HMC potential energy.\\nE-BFMI satisfactory.\\n\\nEffective sample size satisfactory.\\n\\nSplit R-hat values satisfactory all parameters.\\n\\nProcessing complete.\\n\""
      ]
     },
     "execution_count": 6,
     "metadata": {},
     "output_type": "execute_result"
    }
   ],
   "source": [
    "# constrained variable\n",
    "model_gm2 = CmdStanModel(stan_file='code_5.stan')\n",
    "out_gamma2 = model_gm2.sample(output_dir='samples',iter_sampling=6000,iter_warmup=1000, seed=4838282)\n",
    "out_gamma2.diagnose()"
   ]
  },
  {
   "cell_type": "code",
   "execution_count": 7,
   "metadata": {},
   "outputs": [
    {
     "data": {
      "image/png": "[encoded data removed]",
      "text/plain": [
       "<Figure size 432x288 with 1 Axes>"
      ]
     },
     "metadata": {
      "needs_background": "light"
     },
     "output_type": "display_data"
    }
   ],
   "source": [
    "N=500\n",
    "xs = np.linspace(0,8,N)\n",
    "pdfs = stats.gamma.pdf(xs, 1.25, scale = 1 / 1.25) \n",
    "\n",
    "plt.plot(xs, pdfs, linewidth=2)\n",
    "\n",
    "## add histogram of theta samples from the second model with 160 bins\n",
    "plt.hist(out_gamma2.stan_variable(\"theta\"), bins=160, density=True)\n",
    "\n",
    "plt.gca().set_xlabel(\"theta\")\n",
    "plt.gca().set_ylabel(\"Probability Density Function\")\n",
    "plt.show()"
   ]
  },
  {
   "attachments": {},
   "cell_type": "markdown",
   "metadata": {},
   "source": [
    "In unconstrained parameters example divergent sampler transitions were around 40%. For constrained example it was around 0.01%."
   ]
  },
  {
   "cell_type": "markdown",
   "metadata": {},
   "source": [
    "### Excercise 4 - functions and different functionalities of stan"
   ]
  },
  {
   "cell_type": "code",
   "execution_count": 17,
   "metadata": {},
   "outputs": [
    {
     "name": "stderr",
     "output_type": "stream",
     "text": [
      "INFO:cmdstanpy:compiling stan file /home/DataAnalytics_lab/lab2/code_6.stan to exe file /home/DataAnalytics_lab/lab2/code_6\n",
      "INFO:cmdstanpy:compiled model executable: /home/DataAnalytics_lab/lab2/code_6\n",
      "WARNING:cmdstanpy:Stan compiler has produced 5 warnings:\n",
      "WARNING:cmdstanpy:\n",
      "--- Translating Stan model to C++ code ---\n",
      "bin/stanc  --o=/home/DataAnalytics_lab/lab2/code_6.hpp /home/DataAnalytics_lab/lab2/code_6.stan\n",
      "Warning in '/home/DataAnalytics_lab/lab2/code_6.stan', line 2, column 46: Declaration\n",
      "    of arrays by placing brackets after a type is deprecated and will be\n",
      "    removed in Stan 2.32.0. Instead use the array keyword before the type.\n",
      "    This can be changed automatically using the auto-format flag to stanc\n",
      "Warning in '/home/DataAnalytics_lab/lab2/code_6.stan', line 2, column 58: Declaration\n",
      "    of arrays by placing brackets after a type is deprecated and will be\n",
      "    removed in Stan 2.32.0. Instead use the array keyword before the type.\n",
      "    This can be changed automatically using the auto-format flag to stanc\n",
      "Warning in '/home/DataAnalytics_lab/lab2/code_6.stan', line 16, column 3: Declaration\n",
      "    of arrays by placing brackets after a variable name is deprecated and\n",
      "    will be removed in Stan 2.32.0. Instead use the array keyword before the\n",
      "    type. This can be changed automatically using the auto-format flag to\n",
      "    stanc\n",
      "Warning in '/home/DataAnalytics_lab/lab2/code_6.stan', line 17, column 3: Declaration\n",
      "    of arrays by placing brackets after a variable name is deprecated and\n",
      "    will be removed in Stan 2.32.0. Instead use the array keyword before the\n",
      "    type. This can be changed automatically using the auto-format flag to\n",
      "    stanc\n",
      "Warning in '/home/DataAnalytics_lab/lab2/code_6.stan', line 4, column 25: Use\n",
      "    of normal_cdf without a vertical bar (|) between the first two arguments\n",
      "    of a CDF is deprecated and will be removed in Stan 2.32.0. This can be\n",
      "    automatically changed using the canonicalize flag for stanc\n",
      "\n",
      "--- Compiling, linking C++ code ---\n",
      "g++ -std=c++1y -pthread -D_REENTRANT -Wno-sign-compare -Wno-ignored-attributes      -I stan/lib/stan_math/lib/tbb_2020.3/include    -O3 -I src -I stan/src -I lib/rapidjson_1.1.0/ -I lib/CLI11-1.9.1/ -I stan/lib/stan_math/ -I stan/lib/stan_math/lib/eigen_3.3.9 -I stan/lib/stan_math/lib/boost_1.75.0 -I stan/lib/stan_math/lib/sundials_6.0.0/include -I stan/lib/stan_math/lib/sundials_6.0.0/src/sundials    -DBOOST_DISABLE_ASSERTS          -c -Wno-ignored-attributes   -x c++ -o /home/DataAnalytics_lab/lab2/code_6.o /home/DataAnalytics_lab/lab2/code_6.hpp\n",
      "g++ -std=c++1y -pthread -D_REENTRANT -Wno-sign-compare -Wno-ignored-attributes      -I stan/lib/stan_math/lib/tbb_2020.3/include    -O3 -I src -I stan/src -I lib/rapidjson_1.1.0/ -I lib/CLI11-1.9.1/ -I stan/lib/stan_math/ -I stan/lib/stan_math/lib/eigen_3.3.9 -I stan/lib/stan_math/lib/boost_1.75.0 -I stan/lib/stan_math/lib/sundials_6.0.0/include -I stan/lib/stan_math/lib/sundials_6.0.0/src/sundials    -DBOOST_DISABLE_ASSERTS                -Wl,-L,\"/opt/cmdstan-2.29.0/stan/lib/stan_math/lib/tbb\" -Wl,-rpath,\"/opt/cmdstan-2.29.0/stan/lib/stan_math/lib/tbb\"      /home/DataAnalytics_lab/lab2/code_6.o src/cmdstan/main.o        -Wl,-L,\"/opt/cmdstan-2.29.0/stan/lib/stan_math/lib/tbb\" -Wl,-rpath,\"/opt/cmdstan-2.29.0/stan/lib/stan_math/lib/tbb\"   stan/lib/stan_math/lib/sundials_6.0.0/lib/libsundials_nvecserial.a stan/lib/stan_math/lib/sundials_6.0.0/lib/libsundials_cvodes.a stan/lib/stan_math/lib/sundials_6.0.0/lib/libsundials_idas.a stan/lib/stan_math/lib/sundials_6.0.0/lib/libsundials_kinsol.a  stan/lib/stan_math/lib/tbb/libtbb.so.2 -o /home/DataAnalytics_lab/lab2/code_6\n",
      "rm -f /home/DataAnalytics_lab/lab2/code_6.o\n",
      "\n",
      "INFO:cmdstanpy:CmdStan start processing\n",
      "chain 1 |\u001b[34m██████████\u001b[0m| 00:00 Sampling completed"
     ]
    },
    {
     "name": "stdout",
     "output_type": "stream",
     "text": [
      "                                                                                "
     ]
    },
    {
     "name": "stderr",
     "output_type": "stream",
     "text": [
      "\n",
      "INFO:cmdstanpy:CmdStan done processing.\n"
     ]
    },
    {
     "name": "stdout",
     "output_type": "stream",
     "text": [
      "\n"
     ]
    }
   ],
   "source": [
    "model_tune = CmdStanModel(stan_file='code_6.stan')\n",
    "\n",
    "y0 = 1 # initial guess for the equation solving\n",
    "\n",
    "data={'y_guess':[y0],\n",
    "        'theta':[(F+L)/2]}\n",
    "tunes = model_tune.sample(data=data, fixed_param=True, iter_sampling=1, iter_warmup=0, chains = 1)"
   ]
  },
  {
   "cell_type": "code",
   "execution_count": 25,
   "metadata": {},
   "outputs": [
    {
     "name": "stdout",
     "output_type": "stream",
     "text": [
      "Std found:  2.13523\n"
     ]
    }
   ],
   "source": [
    "print(\"Std found: \", float(tunes.draws_pd()[\"sigma\"]))"
   ]
  },
  {
   "attachments": {},
   "cell_type": "markdown",
   "metadata": {},
   "source": [
    "### Excercise 5 - different methods of defining models"
   ]
  },
  {
   "cell_type": "code",
   "execution_count": 28,
   "metadata": {},
   "outputs": [
    {
     "name": "stderr",
     "output_type": "stream",
     "text": [
      "INFO:cmdstanpy:found newer exe file, not recompiling\n",
      "INFO:cmdstanpy:found newer exe file, not recompiling\n",
      "INFO:cmdstanpy:found newer exe file, not recompiling\n",
      "INFO:cmdstanpy:CmdStan start processing\n",
      "chain 1 |\u001b[33m          \u001b[0m| 00:00 Status\n",
      "\u001b[A\n",
      "\n",
      "chain 1 |\u001b[33m████▌     \u001b[0m| 00:00 Iteration:  800 / 2000 [ 40%]  (Warmup)\n",
      "\u001b[A\n",
      "\n",
      "chain 1 |\u001b[34m██████████\u001b[0m| 00:00 Sampling completed                     \n",
      "chain 2 |\u001b[34m██████████\u001b[0m| 00:00 Sampling completed                     \n",
      "chain 3 |\u001b[34m██████████\u001b[0m| 00:00 Sampling completed                       \n",
      "chain 4 |\u001b[34m██████████\u001b[0m| 00:00 Sampling completed                       "
     ]
    },
    {
     "name": "stdout",
     "output_type": "stream",
     "text": [
      "                                                                                                                                                                                                                                                                                                                                "
     ]
    },
    {
     "name": "stderr",
     "output_type": "stream",
     "text": [
      "\n",
      "INFO:cmdstanpy:CmdStan done processing.\n",
      "INFO:cmdstanpy:CmdStan start processing\n"
     ]
    },
    {
     "name": "stdout",
     "output_type": "stream",
     "text": [
      "\n"
     ]
    },
    {
     "name": "stderr",
     "output_type": "stream",
     "text": [
      "chain 1 |\u001b[33m          \u001b[0m| 00:00 Status\n",
      "\u001b[A\n",
      "\n",
      "chain 1 |\u001b[34m██████████\u001b[0m| 00:00 Sampling completed\n",
      "chain 2 |\u001b[34m██████████\u001b[0m| 00:00 Sampling completed\n",
      "chain 3 |\u001b[34m██████████\u001b[0m| 00:00 Sampling completed\n",
      "chain 4 |\u001b[34m██████████\u001b[0m| 00:00 Sampling completed"
     ]
    },
    {
     "name": "stdout",
     "output_type": "stream",
     "text": [
      "                                                                                                                                                                                                                                                "
     ]
    },
    {
     "name": "stderr",
     "output_type": "stream",
     "text": [
      "\n"
     ]
    },
    {
     "name": "stdout",
     "output_type": "stream",
     "text": [
      "                                                                                "
     ]
    },
    {
     "name": "stderr",
     "output_type": "stream",
     "text": [
      "INFO:cmdstanpy:CmdStan done processing.\n"
     ]
    },
    {
     "name": "stdout",
     "output_type": "stream",
     "text": [
      "\n"
     ]
    },
    {
     "name": "stderr",
     "output_type": "stream",
     "text": [
      "INFO:cmdstanpy:CmdStan start processing\n",
      "chain 1 |\u001b[33m          \u001b[0m| 00:00 Status\n",
      "\u001b[A\n",
      "\n",
      "chain 1 |\u001b[34m████████▋ \u001b[0m| 00:00 Iteration: 1600 / 2000 [ 80%]  (Sampling)\n",
      "chain 1 |\u001b[34m██████████\u001b[0m| 00:00 Sampling completed                       \n",
      "chain 2 |\u001b[34m██████████\u001b[0m| 00:00 Sampling completed                       \n",
      "chain 3 |\u001b[34m██████████\u001b[0m| 00:00 Sampling completed                       \n",
      "\n",
      "\n",
      "chain 4 |\u001b[34m██████████\u001b[0m| 00:00 Sampling completed\n"
     ]
    },
    {
     "name": "stdout",
     "output_type": "stream",
     "text": [
      "                                                                                                                                                                                                                                                                                                                                \n"
     ]
    },
    {
     "name": "stderr",
     "output_type": "stream",
     "text": [
      "INFO:cmdstanpy:CmdStan done processing.\n"
     ]
    }
   ],
   "source": [
    "model_samp_st = CmdStanModel(stan_file='code_7.stan')\n",
    "model_log_target = CmdStanModel(stan_file='code_8.stan')\n",
    "model_log_target_ind = CmdStanModel(stan_file='code_9.stan')\n",
    "data = {'N': F}\n",
    "seed = 21371337\n",
    "result_1 = model_samp_st.sample(data=data,seed=seed)\n",
    "result_2 = model_log_target.sample(data=data,seed=seed)\n",
    "result_3 = model_log_target_ind.sample(data=data,seed=seed)"
   ]
  },
  {
   "cell_type": "code",
   "execution_count": 29,
   "metadata": {},
   "outputs": [
    {
     "data": {
      "image/png": "[encoded data removed]",
      "text/plain": [
       "<Figure size 1490.4x662.4 with 6 Axes>"
      ]
     },
     "metadata": {
      "needs_background": "light"
     },
     "output_type": "display_data"
    }
   ],
   "source": [
    "az.plot_density([result_1,result_2,result_3])\n",
    "plt.show()"
   ]
  },
  {
   "attachments": {},
   "cell_type": "markdown",
   "metadata": {},
   "source": [
    "### Excercise 6 - generated quantities post sampling"
   ]
  },
  {
   "cell_type": "code",
   "execution_count": 36,
   "metadata": {},
   "outputs": [
    {
     "name": "stderr",
     "output_type": "stream",
     "text": [
      "INFO:cmdstanpy:found newer exe file, not recompiling\n",
      "INFO:cmdstanpy:Chain [1] start processing\n",
      "INFO:cmdstanpy:Chain [2] start processing\n",
      "INFO:cmdstanpy:Chain [3] start processing\n",
      "INFO:cmdstanpy:Chain [4] start processing\n",
      "INFO:cmdstanpy:Chain [3] done processing\n",
      "INFO:cmdstanpy:Chain [2] done processing\n",
      "INFO:cmdstanpy:Chain [1] done processing\n",
      "INFO:cmdstanpy:Chain [4] done processing\n"
     ]
    },
    {
     "data": {
      "text/plain": [
       "(array([  6.,  12.,  33.,  75., 115., 210., 290., 409., 484., 506., 499.,\n",
       "        467., 323., 273., 137.,  88.,  45.,  17.,   6.,   5.]),\n",
       " array([-3.58894  , -3.2201085, -2.851277 , -2.4824455, -2.113614 ,\n",
       "        -1.7447825, -1.375951 , -1.0071195, -0.638288 , -0.2694565,\n",
       "         0.099375 ,  0.4682065,  0.837038 ,  1.2058695,  1.574701 ,\n",
       "         1.9435325,  2.312364 ,  2.6811955,  3.050027 ,  3.4188585,\n",
       "         3.78769  ]),\n",
       " <BarContainer object of 20 artists>)"
      ]
     },
     "execution_count": 36,
     "metadata": {},
     "output_type": "execute_result"
    },
    {
     "data": {
      "image/png": "[encoded data removed]",
      "text/plain": [
       "<Figure size 432x288 with 1 Axes>"
      ]
     },
     "metadata": {
      "needs_background": "light"
     },
     "output_type": "display_data"
    }
   ],
   "source": [
    "model_gq = CmdStanModel(stan_file='code_10.stan')\n",
    "# fill in with chosen result from previous excercise\n",
    "mean_of_y = model_gq.generate_quantities(data=data,\n",
    "                                        mcmc_sample = result_1)\n",
    "# investigate the output and plot histogram of mean_y variable\n",
    "mean_of_y_df = mean_of_y.draws_pd()\n",
    "plt.hist(mean_of_y_df, bins=20)"
   ]
  }
 ],
 "metadata": {
  "kernelspec": {
   "display_name": "Python 3",
   "language": "python",
   "name": "python3"
  },
  "language_info": {
   "codemirror_mode": {
    "name": "ipython",
    "version": 3
   },
   "file_extension": ".py",
   "mimetype": "text/x-python",
   "name": "python",
   "nbconvert_exporter": "python",
   "pygments_lexer": "ipython3",
   "version": "3.9.11"
  },
  "orig_nbformat": 4
 },
 "nbformat": 4,
 "nbformat_minor": 2
}
