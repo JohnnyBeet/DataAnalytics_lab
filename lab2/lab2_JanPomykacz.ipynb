{
 "cells": [
  {
   "attachments": {},
   "cell_type": "markdown",
   "metadata": {},
   "source": [
    "## Data Analytics - Lab 2 - Intro to stan\n",
    "<br>\n",
    "Jan Pomykacz<br>\n",
    "Nr. albumu: 401623<br>\n",
    "Grupa: czwartek, 9:30"
   ]
  },
  {
   "cell_type": "code",
   "execution_count": 1,
   "metadata": {},
   "outputs": [
    {
     "name": "stderr",
     "output_type": "stream",
     "text": [
      "/usr/local/lib/python3.9/site-packages/tqdm/auto.py:22: TqdmWarning: IProgress not found. Please update jupyter and ipywidgets. See https://ipywidgets.readthedocs.io/en/stable/user_install.html\n",
      "  from .autonotebook import tqdm as notebook_tqdm\n"
     ]
    }
   ],
   "source": [
    "from cmdstanpy import CmdStanModel\n",
    "import pandas as pd\n",
    "import arviz as az \n",
    "import numpy as np\n",
    "import matplotlib.pyplot as plt\n",
    "import scipy.stats as stats"
   ]
  },
  {
   "cell_type": "code",
   "execution_count": 15,
   "metadata": {},
   "outputs": [
    {
     "name": "stderr",
     "output_type": "stream",
     "text": [
      "INFO:cmdstanpy:found newer exe file, not recompiling\n",
      "INFO:cmdstanpy:CmdStan start processing\n",
      "chain 1 |\u001b[34m██████████\u001b[0m| 00:00 Sampling completed"
     ]
    },
    {
     "name": "stdout",
     "output_type": "stream",
     "text": [
      "                                                                                "
     ]
    },
    {
     "name": "stderr",
     "output_type": "stream",
     "text": [
      "\n",
      "INFO:cmdstanpy:CmdStan done processing.\n"
     ]
    },
    {
     "name": "stdout",
     "output_type": "stream",
     "text": [
      "\n"
     ]
    }
   ],
   "source": [
    "# Exercise 1\n",
    "gen_quant = CmdStanModel(stan_file='code_1.stan')\n",
    "\n",
    "samples = gen_quant.sample(data={'M':3}, \n",
    "                            fixed_param=True, \n",
    "                            iter_sampling=1000, \n",
    "                            iter_warmup=0, \n",
    "                            chains = 1)"
   ]
  },
  {
   "cell_type": "code",
   "execution_count": 17,
   "metadata": {},
   "outputs": [
    {
     "data": {
      "text/plain": [
       "array([[<AxesSubplot:title={'center':'lambda'}>,\n",
       "        <AxesSubplot:title={'center':'y_sim[1]'}>],\n",
       "       [<AxesSubplot:title={'center':'y_sim[2]'}>,\n",
       "        <AxesSubplot:title={'center':'y_sim[3]'}>]], dtype=object)"
      ]
     },
     "execution_count": 17,
     "metadata": {},
     "output_type": "execute_result"
    },
    {
     "data": {
      "image/png": "[encoded data removed]",
      "text/plain": [
       "<Figure size 720x720 with 4 Axes>"
      ]
     },
     "metadata": {
      "needs_background": "light"
     },
     "output_type": "display_data"
    }
   ],
   "source": [
    "df = samples.draws_pd()\n",
    "\n",
    "df.hist(list(df.columns[2:]), figsize=(10,10))"
   ]
  },
  {
   "cell_type": "code",
   "execution_count": 20,
   "metadata": {},
   "outputs": [
    {
     "name": "stderr",
     "output_type": "stream",
     "text": [
      "INFO:cmdstanpy:found newer exe file, not recompiling\n",
      "INFO:cmdstanpy:CmdStan start processing\n",
      "chain 1 |\u001b[33m          \u001b[0m| 00:00 Status\n",
      "\u001b[A\n",
      "\n",
      "\u001b[A\u001b[AERROR:cmdstanpy:Chain [1] error: error during processing Operation not permitted\n",
      "ERROR:cmdstanpy:Chain [3] error: error during processing Operation not permitted\n",
      "ERROR:cmdstanpy:Chain [2] error: error during processing Operation not permitted\n",
      "ERROR:cmdstanpy:Chain [4] error: error during processing Operation not permitted\n",
      "chain 1 |\u001b[33m██████████\u001b[0m| 00:00 Sampling completed\n",
      "chain 2 |\u001b[33m██████████\u001b[0m| 00:00 Sampling completed\n",
      "chain 3 |\u001b[33m██████████\u001b[0m| 00:00 Sampling completed\n",
      "chain 4 |\u001b[33m██████████\u001b[0m| 00:00 Sampling completed"
     ]
    },
    {
     "name": "stdout",
     "output_type": "stream",
     "text": [
      "                                                                                                                                                                                                                                                                                                                                "
     ]
    },
    {
     "name": "stderr",
     "output_type": "stream",
     "text": [
      "\n",
      "INFO:cmdstanpy:CmdStan done processing.\n"
     ]
    },
    {
     "name": "stdout",
     "output_type": "stream",
     "text": [
      "\n"
     ]
    },
    {
     "ename": "RuntimeError",
     "evalue": "Error during sampling:\nException: mismatch in dimension declared and found in context; processing stage=data initialization; variable name=y; position=0; dims declared=(1); dims found=(2) (in '/home/DataAnalytics_lab/lab2/code_2.stan', line 3, column 4 to column 13)\nException: mismatch in dimension declared and found in context; processing stage=data initialization; variable name=y; position=0; dims declared=(1); dims found=(2) (in '/home/DataAnalytics_lab/lab2/code_2.stan', line 3, column 4 to column 13)\nException: mismatch in dimension declared and found in context; processing stage=data initialization; variable name=y; position=0; dims declared=(1); dims found=(2) (in '/home/DataAnalytics_lab/lab2/code_2.stan', line 3, column 4 to column 13)\nException: mismatch in dimension declared and found in context; processing stage=data initialization; variable name=y; position=0; dims declared=(1); dims found=(2) (in '/home/DataAnalytics_lab/lab2/code_2.stan', line 3, column 4 to column 13)Command and output files:\nRunSet: chains=4, chain_ids=[1, 2, 3, 4], num_processes=4\n cmd (chain 1):\n\t['/home/DataAnalytics_lab/lab2/code_2', 'id=1', 'random', 'seed=62883', 'data', 'file=/tmp/tmpue061rop/68fc13o4.json', 'output', 'file=/tmp/tmpue061rop/code_2-20230317181844_1.csv', 'method=sample', 'algorithm=hmc', 'adapt', 'engaged=1']\n retcodes=[1, 1, 1, 1]\n per-chain output files (showing chain 1 only):\n csv_file:\n\t/tmp/tmpue061rop/code_2-20230317181844_1.csv\n console_msgs (if any):\n\t/tmp/tmpue061rop/code_2-20230317181844_0-stdout.txt",
     "output_type": "error",
     "traceback": [
      "\u001b[0;31m---------------------------------------------------------------------------\u001b[0m",
      "\u001b[0;31mRuntimeError\u001b[0m                              Traceback (most recent call last)",
      "\u001b[1;32m/home/DataAnalytics_lab/lab2/lab2.ipynb Cell 5\u001b[0m in \u001b[0;36m<cell line: 4>\u001b[0;34m()\u001b[0m\n\u001b[1;32m      <a href='vscode-notebook-cell://attached-container%2B7b22636f6e7461696e65724e616d65223a222f44415f636f6e7461696e6572227d/home/DataAnalytics_lab/lab2/lab2.ipynb#W5sdnNjb2RlLXJlbW90ZQ%3D%3D?line=0'>1</a>\u001b[0m \u001b[39m# Ex. 2\u001b[39;00m\n\u001b[1;32m      <a href='vscode-notebook-cell://attached-container%2B7b22636f6e7461696e65724e616d65223a222f44415f636f6e7461696e6572227d/home/DataAnalytics_lab/lab2/lab2.ipynb#W5sdnNjb2RlLXJlbW90ZQ%3D%3D?line=2'>3</a>\u001b[0m bern1 \u001b[39m=\u001b[39m CmdStanModel(stan_file\u001b[39m=\u001b[39m\u001b[39m'\u001b[39m\u001b[39mcode_2.stan\u001b[39m\u001b[39m'\u001b[39m)\n\u001b[0;32m----> <a href='vscode-notebook-cell://attached-container%2B7b22636f6e7461696e65724e616d65223a222f44415f636f6e7461696e6572227d/home/DataAnalytics_lab/lab2/lab2.ipynb#W5sdnNjb2RlLXJlbW90ZQ%3D%3D?line=3'>4</a>\u001b[0m samp_bern1 \u001b[39m=\u001b[39m bern1\u001b[39m.\u001b[39;49msample(data\u001b[39m=\u001b[39;49m{\u001b[39m'\u001b[39;49m\u001b[39mN\u001b[39;49m\u001b[39m'\u001b[39;49m:\u001b[39m1\u001b[39;49m, \u001b[39m'\u001b[39;49m\u001b[39my\u001b[39;49m\u001b[39m'\u001b[39;49m:[\u001b[39m0\u001b[39;49m,\u001b[39m1\u001b[39;49m]})\n",
      "File \u001b[0;32m/usr/local/lib/python3.9/site-packages/cmdstanpy/model.py:1089\u001b[0m, in \u001b[0;36mCmdStanModel.sample\u001b[0;34m(self, data, chains, parallel_chains, threads_per_chain, seed, chain_ids, inits, iter_warmup, iter_sampling, save_warmup, thin, max_treedepth, metric, step_size, adapt_engaged, adapt_delta, adapt_init_phase, adapt_metric_window, adapt_step_size, fixed_param, output_dir, sig_figs, save_latent_dynamics, save_profile, show_progress, show_console, refresh, time_fmt, force_one_process_per_chain)\u001b[0m\n\u001b[1;32m   1085\u001b[0m         msg \u001b[39m=\u001b[39m \u001b[39m'\u001b[39m\u001b[39mError during sampling:\u001b[39m\u001b[39m\\n\u001b[39;00m\u001b[39m{}\u001b[39;00m\u001b[39m'\u001b[39m\u001b[39m.\u001b[39mformat(runset\u001b[39m.\u001b[39mget_err_msgs())\n\u001b[1;32m   1086\u001b[0m         msg \u001b[39m=\u001b[39m \u001b[39m'\u001b[39m\u001b[39m{}\u001b[39;00m\u001b[39mCommand and output files:\u001b[39m\u001b[39m\\n\u001b[39;00m\u001b[39m{}\u001b[39;00m\u001b[39m'\u001b[39m\u001b[39m.\u001b[39mformat(\n\u001b[1;32m   1087\u001b[0m             msg, runset\u001b[39m.\u001b[39m\u001b[39m__repr__\u001b[39m()\n\u001b[1;32m   1088\u001b[0m         )\n\u001b[0;32m-> 1089\u001b[0m         \u001b[39mraise\u001b[39;00m \u001b[39mRuntimeError\u001b[39;00m(msg)\n\u001b[1;32m   1091\u001b[0m     mcmc \u001b[39m=\u001b[39m CmdStanMCMC(runset)\n\u001b[1;32m   1092\u001b[0m \u001b[39mreturn\u001b[39;00m mcmc\n",
      "\u001b[0;31mRuntimeError\u001b[0m: Error during sampling:\nException: mismatch in dimension declared and found in context; processing stage=data initialization; variable name=y; position=0; dims declared=(1); dims found=(2) (in '/home/DataAnalytics_lab/lab2/code_2.stan', line 3, column 4 to column 13)\nException: mismatch in dimension declared and found in context; processing stage=data initialization; variable name=y; position=0; dims declared=(1); dims found=(2) (in '/home/DataAnalytics_lab/lab2/code_2.stan', line 3, column 4 to column 13)\nException: mismatch in dimension declared and found in context; processing stage=data initialization; variable name=y; position=0; dims declared=(1); dims found=(2) (in '/home/DataAnalytics_lab/lab2/code_2.stan', line 3, column 4 to column 13)\nException: mismatch in dimension declared and found in context; processing stage=data initialization; variable name=y; position=0; dims declared=(1); dims found=(2) (in '/home/DataAnalytics_lab/lab2/code_2.stan', line 3, column 4 to column 13)Command and output files:\nRunSet: chains=4, chain_ids=[1, 2, 3, 4], num_processes=4\n cmd (chain 1):\n\t['/home/DataAnalytics_lab/lab2/code_2', 'id=1', 'random', 'seed=62883', 'data', 'file=/tmp/tmpue061rop/68fc13o4.json', 'output', 'file=/tmp/tmpue061rop/code_2-20230317181844_1.csv', 'method=sample', 'algorithm=hmc', 'adapt', 'engaged=1']\n retcodes=[1, 1, 1, 1]\n per-chain output files (showing chain 1 only):\n csv_file:\n\t/tmp/tmpue061rop/code_2-20230317181844_1.csv\n console_msgs (if any):\n\t/tmp/tmpue061rop/code_2-20230317181844_0-stdout.txt"
     ]
    }
   ],
   "source": [
    "# Ex. 2\n",
    "\n",
    "bern1 = CmdStanModel(stan_file='code_2.stan')\n",
    "samp_bern1 = bern1.sample(data={'N':2, 'y':[0,2]})\n",
    "\n",
    "# bern2 = CmdStanModel(stan_file='code_3.stan')\n",
    "# samp_bern2 = bern2.sample(data={'N':2, 'y':[0,2]})"
   ]
  }
 ],
 "metadata": {
  "kernelspec": {
   "display_name": "Python 3",
   "language": "python",
   "name": "python3"
  },
  "language_info": {
   "codemirror_mode": {
    "name": "ipython",
    "version": 3
   },
   "file_extension": ".py",
   "mimetype": "text/x-python",
   "name": "python",
   "nbconvert_exporter": "python",
   "pygments_lexer": "ipython3",
   "version": "3.9.11"
  },
  "orig_nbformat": 4
 },
 "nbformat": 4,
 "nbformat_minor": 2
}
