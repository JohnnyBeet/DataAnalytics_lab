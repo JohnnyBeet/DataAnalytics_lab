{
 "cells": [
  {
   "attachments": {},
   "cell_type": "markdown",
   "metadata": {},
   "source": [
    "## Data Analytics - Lab 3 - Prior and Posterior predictive distributions\n",
    "<br>\n",
    "Jan Pomykacz<br>\n",
    "Nr. albumu: 401623<br>\n",
    "Grupa: czwartek, 9:30"
   ]
  },
  {
   "cell_type": "code",
   "execution_count": 16,
   "metadata": {},
   "outputs": [],
   "source": [
    "from cmdstanpy import CmdStanModel\n",
    "import pandas as pd\n",
    "import arviz as az \n",
    "import numpy as np\n",
    "import matplotlib.pyplot as plt\n",
    "import scipy.stats as stats"
   ]
  },
  {
   "attachments": {},
   "cell_type": "markdown",
   "metadata": {},
   "source": [
    "### Modeling prior predictive distribution"
   ]
  },
  {
   "cell_type": "code",
   "execution_count": 36,
   "metadata": {},
   "outputs": [
    {
     "name": "stderr",
     "output_type": "stream",
     "text": [
      "INFO:cmdstanpy:found newer exe file, not recompiling\n",
      "INFO:cmdstanpy:CmdStan start processing\n",
      "chain 1 |\u001b[34m██████████\u001b[0m| 00:00 Sampling completed"
     ]
    },
    {
     "name": "stdout",
     "output_type": "stream",
     "text": [
      "                                                                                "
     ]
    },
    {
     "name": "stderr",
     "output_type": "stream",
     "text": [
      "\n",
      "INFO:cmdstanpy:CmdStan done processing.\n"
     ]
    },
    {
     "name": "stdout",
     "output_type": "stream",
     "text": [
      "\n",
      "         lp__  accept_stat__       N            y            p\n",
      "count  1000.0         1000.0  1000.0  1000.000000  1000.000000\n",
      "mean      0.0            0.0    50.0    10.119000     0.199954\n",
      "std       0.0            0.0     0.0     2.775345     0.010109\n",
      "min       0.0            0.0    50.0     1.000000     0.167008\n",
      "25%       0.0            0.0    50.0     8.000000     0.193239\n",
      "50%       0.0            0.0    50.0    10.000000     0.199964\n",
      "75%       0.0            0.0    50.0    12.000000     0.206789\n",
      "max       0.0            0.0    50.0    19.000000     0.230648\n",
      "Mean of ratio: 0.20238000000000006\n"
     ]
    },
    {
     "data": {
      "image/png": "[encoded data removed]",
      "text/plain": [
       "<Figure size 432x288 with 1 Axes>"
      ]
     },
     "metadata": {
      "needs_background": "light"
     },
     "output_type": "display_data"
    }
   ],
   "source": [
    "gen_quant = CmdStanModel(stan_file='prior.stan')\n",
    "\n",
    "samples = gen_quant.sample(data={'N':50}, \n",
    "                            fixed_param=True, \n",
    "                            iter_sampling=1000, \n",
    "                            iter_warmup=0, \n",
    "                            chains = 1)\n",
    "\n",
    "df = samples.draws_pd()\n",
    "ratio = df[\"y\"] / 50\n",
    "plt.hist(ratio, bins=19)\n",
    "print(df.describe())\n",
    "print(f\"Mean of ratio: {ratio.mean()}\")\n",
    "\n",
    "# Mean of the ratio is consistent with prior knowledge, because for 1000 samples in multiple experiments it's around 20%"
   ]
  },
  {
   "attachments": {},
   "cell_type": "markdown",
   "metadata": {},
   "source": [
    "### Modeling posterior and posterior predictive distribution"
   ]
  },
  {
   "cell_type": "code",
   "execution_count": 18,
   "metadata": {},
   "outputs": [
    {
     "name": "stderr",
     "output_type": "stream",
     "text": [
      "INFO:cmdstanpy:found newer exe file, not recompiling\n",
      "INFO:cmdstanpy:CmdStan start processing\n",
      "chain 1 |\u001b[33m          \u001b[0m| 00:00 Status\n",
      "\u001b[A\n",
      "\n",
      "\u001b[A\u001b[A\n",
      "chain 1 |\u001b[33m▍         \u001b[0m| 00:00 Status\n",
      "\n",
      "chain 1 |\u001b[33m██████████\u001b[0m| 00:00 Sampling completed\n",
      "chain 2 |\u001b[34m██████████\u001b[0m| 00:00 Sampling completed\n",
      "chain 3 |\u001b[34m██████████\u001b[0m| 00:00 Sampling completed                       \n",
      "chain 4 |\u001b[33m██████████\u001b[0m| 00:00 Sampling completed"
     ]
    },
    {
     "name": "stdout",
     "output_type": "stream",
     "text": [
      "                                                                                                                                                                                                                                                                                                                                "
     ]
    },
    {
     "name": "stderr",
     "output_type": "stream",
     "text": [
      "\n",
      "INFO:cmdstanpy:CmdStan done processing.\n"
     ]
    },
    {
     "name": "stdout",
     "output_type": "stream",
     "text": [
      "\n"
     ]
    },
    {
     "data": {
      "text/html": [
       "<div>\n",
       "<style scoped>\n",
       "    .dataframe tbody tr th:only-of-type {\n",
       "        vertical-align: middle;\n",
       "    }\n",
       "\n",
       "    .dataframe tbody tr th {\n",
       "        vertical-align: top;\n",
       "    }\n",
       "\n",
       "    .dataframe thead th {\n",
       "        text-align: right;\n",
       "    }\n",
       "</style>\n",
       "<table border=\"1\" class=\"dataframe\">\n",
       "  <thead>\n",
       "    <tr style=\"text-align: right;\">\n",
       "      <th></th>\n",
       "      <th>lp__</th>\n",
       "      <th>accept_stat__</th>\n",
       "      <th>stepsize__</th>\n",
       "      <th>treedepth__</th>\n",
       "      <th>n_leapfrog__</th>\n",
       "      <th>divergent__</th>\n",
       "      <th>energy__</th>\n",
       "      <th>p</th>\n",
       "      <th>y_pred</th>\n",
       "    </tr>\n",
       "  </thead>\n",
       "  <tbody>\n",
       "    <tr>\n",
       "      <th>count</th>\n",
       "      <td>4000.000000</td>\n",
       "      <td>4000.000000</td>\n",
       "      <td>4000.000000</td>\n",
       "      <td>4000.000000</td>\n",
       "      <td>4000.000000</td>\n",
       "      <td>4000.0</td>\n",
       "      <td>4000.000000</td>\n",
       "      <td>4000.000000</td>\n",
       "      <td>4000.000000</td>\n",
       "    </tr>\n",
       "    <tr>\n",
       "      <th>mean</th>\n",
       "      <td>-23.184210</td>\n",
       "      <td>0.927281</td>\n",
       "      <td>0.995647</td>\n",
       "      <td>1.429250</td>\n",
       "      <td>2.576000</td>\n",
       "      <td>0.0</td>\n",
       "      <td>23.660125</td>\n",
       "      <td>0.198399</td>\n",
       "      <td>9.938000</td>\n",
       "    </tr>\n",
       "    <tr>\n",
       "      <th>std</th>\n",
       "      <td>0.665617</td>\n",
       "      <td>0.107359</td>\n",
       "      <td>0.122178</td>\n",
       "      <td>0.573216</td>\n",
       "      <td>1.401683</td>\n",
       "      <td>0.0</td>\n",
       "      <td>0.928820</td>\n",
       "      <td>0.009880</td>\n",
       "      <td>2.860717</td>\n",
       "    </tr>\n",
       "    <tr>\n",
       "      <th>min</th>\n",
       "      <td>-27.885400</td>\n",
       "      <td>0.199381</td>\n",
       "      <td>0.817560</td>\n",
       "      <td>1.000000</td>\n",
       "      <td>1.000000</td>\n",
       "      <td>0.0</td>\n",
       "      <td>22.683200</td>\n",
       "      <td>0.168048</td>\n",
       "      <td>2.000000</td>\n",
       "    </tr>\n",
       "    <tr>\n",
       "      <th>25%</th>\n",
       "      <td>-23.357350</td>\n",
       "      <td>0.898402</td>\n",
       "      <td>0.936802</td>\n",
       "      <td>1.000000</td>\n",
       "      <td>1.000000</td>\n",
       "      <td>0.0</td>\n",
       "      <td>22.982775</td>\n",
       "      <td>0.191530</td>\n",
       "      <td>8.000000</td>\n",
       "    </tr>\n",
       "    <tr>\n",
       "      <th>50%</th>\n",
       "      <td>-22.923900</td>\n",
       "      <td>0.974519</td>\n",
       "      <td>1.003430</td>\n",
       "      <td>1.000000</td>\n",
       "      <td>3.000000</td>\n",
       "      <td>0.0</td>\n",
       "      <td>23.387900</td>\n",
       "      <td>0.198441</td>\n",
       "      <td>10.000000</td>\n",
       "    </tr>\n",
       "    <tr>\n",
       "      <th>75%</th>\n",
       "      <td>-22.734675</td>\n",
       "      <td>1.000000</td>\n",
       "      <td>1.062275</td>\n",
       "      <td>2.000000</td>\n",
       "      <td>3.000000</td>\n",
       "      <td>0.0</td>\n",
       "      <td>24.045975</td>\n",
       "      <td>0.205218</td>\n",
       "      <td>12.000000</td>\n",
       "    </tr>\n",
       "    <tr>\n",
       "      <th>max</th>\n",
       "      <td>-22.682900</td>\n",
       "      <td>1.000000</td>\n",
       "      <td>1.158170</td>\n",
       "      <td>3.000000</td>\n",
       "      <td>7.000000</td>\n",
       "      <td>0.0</td>\n",
       "      <td>30.465900</td>\n",
       "      <td>0.230394</td>\n",
       "      <td>20.000000</td>\n",
       "    </tr>\n",
       "  </tbody>\n",
       "</table>\n",
       "</div>"
      ],
      "text/plain": [
       "              lp__  accept_stat__   stepsize__  treedepth__  n_leapfrog__  \\\n",
       "count  4000.000000    4000.000000  4000.000000  4000.000000   4000.000000   \n",
       "mean    -23.184210       0.927281     0.995647     1.429250      2.576000   \n",
       "std       0.665617       0.107359     0.122178     0.573216      1.401683   \n",
       "min     -27.885400       0.199381     0.817560     1.000000      1.000000   \n",
       "25%     -23.357350       0.898402     0.936802     1.000000      1.000000   \n",
       "50%     -22.923900       0.974519     1.003430     1.000000      3.000000   \n",
       "75%     -22.734675       1.000000     1.062275     2.000000      3.000000   \n",
       "max     -22.682900       1.000000     1.158170     3.000000      7.000000   \n",
       "\n",
       "       divergent__     energy__            p       y_pred  \n",
       "count       4000.0  4000.000000  4000.000000  4000.000000  \n",
       "mean           0.0    23.660125     0.198399     9.938000  \n",
       "std            0.0     0.928820     0.009880     2.860717  \n",
       "min            0.0    22.683200     0.168048     2.000000  \n",
       "25%            0.0    22.982775     0.191530     8.000000  \n",
       "50%            0.0    23.387900     0.198441    10.000000  \n",
       "75%            0.0    24.045975     0.205218    12.000000  \n",
       "max            0.0    30.465900     0.230394    20.000000  "
      ]
     },
     "execution_count": 18,
     "metadata": {},
     "output_type": "execute_result"
    },
    {
     "data": {
      "image/png": "[encoded data removed]",
      "text/plain": [
       "<Figure size 432x288 with 1 Axes>"
      ]
     },
     "metadata": {
      "needs_background": "light"
     },
     "output_type": "display_data"
    }
   ],
   "source": [
    "gen_quant2 = CmdStanModel(stan_file='posterior.stan')\n",
    "\n",
    "samples2 = gen_quant2.sample(data={'N':50,'y':7})\n",
    "\n",
    "df2 = samples2.draws_pd()\n",
    "ratio2 = df2[\"y_pred\"] / 50\n",
    "plt.hist(ratio2, bins=19)\n",
    "df2.describe()"
   ]
  },
  {
   "cell_type": "code",
   "execution_count": 27,
   "metadata": {},
   "outputs": [
    {
     "name": "stderr",
     "output_type": "stream",
     "text": [
      "arviz - WARNING - Shape validation failed: input_shape: (1, 4000), minimum_shape: (chains=2, draws=4)\n",
      "arviz - WARNING - Shape validation failed: input_shape: (1, 1000), minimum_shape: (chains=2, draws=4)\n"
     ]
    },
    {
     "name": "stdout",
     "output_type": "stream",
     "text": [
      "Ratio stats: expected value = 0.199, 94% density interval = 0.3\n",
      "p stats: expected value = 0.2, 94% density interval = 0.22\n",
      "Probability that ratio is lower than the avg probability of traditional vaccines: 0.45425\n"
     ]
    }
   ],
   "source": [
    "predicted_ratio_stats = az.summary(ratio2.to_numpy(), hdi_prob=0.94)\n",
    "predicted_p_stats = az.summary(df[\"p\"].to_numpy(), hdi_prob=0.94)\n",
    "print(\"Ratio stats: expected value = {0}, 94% density interval = {1}\".format(predicted_ratio_stats[\"mean\"][0], predicted_ratio_stats[\"hdi_97%\"][0]))\n",
    "print(\"p stats: expected value = {0}, 94% density interval = {1}\".format(predicted_p_stats[\"mean\"][0], predicted_p_stats[\"hdi_97%\"][0]))\n",
    "\n",
    "ratio_lower_prob = (ratio2 < 0.2).sum() / ratio2.count()\n",
    "print(f\"Probability that ratio is lower than the avg probability of traditional vaccines: {ratio_lower_prob}\")"
   ]
  }
 ],
 "metadata": {
  "kernelspec": {
   "display_name": "Python 3",
   "language": "python",
   "name": "python3"
  },
  "language_info": {
   "codemirror_mode": {
    "name": "ipython",
    "version": 3
   },
   "file_extension": ".py",
   "mimetype": "text/x-python",
   "name": "python",
   "nbconvert_exporter": "python",
   "pygments_lexer": "ipython3",
   "version": "3.9.11"
  },
  "orig_nbformat": 4
 },
 "nbformat": 4,
 "nbformat_minor": 2
}
